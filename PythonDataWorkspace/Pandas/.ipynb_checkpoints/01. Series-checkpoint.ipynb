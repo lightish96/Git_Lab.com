{
 "cells": [
  {
   "cell_type": "markdown",
   "id": "59ad6e52",
   "metadata": {},
   "source": [
    "# Pandas\n",
    "파이썬에서 사용하는 데이터 분석 라이브러리"
   ]
  },
  {
   "cell_type": "code",
   "execution_count": 1,
   "id": "25a3584f",
   "metadata": {},
   "outputs": [],
   "source": [
    "import pandas as pd # 판다스를 사용하기 위해서 import 먼저!"
   ]
  },
  {
   "cell_type": "markdown",
   "id": "ad28a3eb",
   "metadata": {},
   "source": [
    "## 1. Series\n",
    "1차원 데이터 (정수, 실수, 문자열 등)"
   ]
  },
  {
   "cell_type": "markdown",
   "id": "2d7f4a7a",
   "metadata": {},
   "source": [
    "## Series 객체 생성\n",
    "ex. 1월부터 4월까지의 평균 온도 데이터 (-20, -10, 10, 20)"
   ]
  },
  {
   "cell_type": "code",
   "execution_count": 2,
   "id": "e1e1b21c",
   "metadata": {},
   "outputs": [
    {
     "name": "stdout",
     "output_type": "stream",
     "text": [
      "0   -20\n",
      "1   -10\n",
      "2    10\n",
      "3    20\n",
      "dtype: int64\n"
     ]
    }
   ],
   "source": [
    "temp = pd.Series([-20, -10, 10, 20])\n",
    "print(temp)"
   ]
  },
  {
   "cell_type": "code",
   "execution_count": 3,
   "id": "7c368e11",
   "metadata": {},
   "outputs": [
    {
     "data": {
      "text/plain": [
       "-20"
      ]
     },
     "execution_count": 3,
     "metadata": {},
     "output_type": "execute_result"
    }
   ],
   "source": [
    "temp[0] #1월의 온도"
   ]
  },
  {
   "cell_type": "code",
   "execution_count": 4,
   "id": "ad7a2816",
   "metadata": {},
   "outputs": [
    {
     "data": {
      "text/plain": [
       "10"
      ]
     },
     "execution_count": 4,
     "metadata": {},
     "output_type": "execute_result"
    }
   ],
   "source": [
    "temp[2] #3월의 온도"
   ]
  },
  {
   "cell_type": "markdown",
   "id": "fd284204",
   "metadata": {},
   "source": [
    "## Series 객체 생성(Index 지정)"
   ]
  },
  {
   "cell_type": "code",
   "execution_count": 5,
   "id": "afc299c8",
   "metadata": {},
   "outputs": [],
   "source": [
    "temp = pd.Series([-20, -10, 10, 20], index=['jan', 'feb', 'mar', 'apr'])"
   ]
  },
  {
   "cell_type": "code",
   "execution_count": 6,
   "id": "9980e085",
   "metadata": {},
   "outputs": [
    {
     "data": {
      "text/plain": [
       "jan   -20\n",
       "feb   -10\n",
       "mar    10\n",
       "apr    20\n",
       "dtype: int64"
      ]
     },
     "execution_count": 6,
     "metadata": {},
     "output_type": "execute_result"
    }
   ],
   "source": [
    "temp"
   ]
  },
  {
   "cell_type": "code",
   "execution_count": 7,
   "id": "93b96f86",
   "metadata": {},
   "outputs": [
    {
     "data": {
      "text/plain": [
       "-20"
      ]
     },
     "execution_count": 7,
     "metadata": {},
     "output_type": "execute_result"
    }
   ],
   "source": [
    "temp['jan']"
   ]
  },
  {
   "cell_type": "code",
   "execution_count": 8,
   "id": "a70aaf53",
   "metadata": {},
   "outputs": [
    {
     "data": {
      "text/plain": [
       "20"
      ]
     },
     "execution_count": 8,
     "metadata": {},
     "output_type": "execute_result"
    }
   ],
   "source": [
    "temp['apr']"
   ]
  },
  {
   "cell_type": "code",
   "execution_count": 10,
   "id": "f6bcf237",
   "metadata": {},
   "outputs": [],
   "source": [
    "#temp['jun'], 존재하지 않는 index 접근 시 에러 발생"
   ]
  }
 ],
 "metadata": {
  "kernelspec": {
   "display_name": "Python 3 (ipykernel)",
   "language": "python",
   "name": "python3"
  },
  "language_info": {
   "codemirror_mode": {
    "name": "ipython",
    "version": 3
   },
   "file_extension": ".py",
   "mimetype": "text/x-python",
   "name": "python",
   "nbconvert_exporter": "python",
   "pygments_lexer": "ipython3",
   "version": "3.9.7"
  }
 },
 "nbformat": 4,
 "nbformat_minor": 5
}
